{
  "nbformat": 4,
  "nbformat_minor": 0,
  "metadata": {
    "colab": {
      "provenance": [],
      "collapsed_sections": []
    },
    "kernelspec": {
      "name": "python3",
      "display_name": "Python 3"
    },
    "language_info": {
      "name": "python"
    }
  },
  "cells": [
    {
      "cell_type": "code",
      "execution_count": null,
      "metadata": {
        "id": "8o8TuFh-sjLj"
      },
      "outputs": [],
      "source": [
        "#importing all required libraries\n",
        "\n",
        "import pandas as pd\n",
        "from sklearn import model_selection\n",
        "from sklearn.preprocessing import StandardScaler\n",
        "from sklearn.model_selection import train_test_split\n",
        "\n",
        "from tensorflow import keras\n",
        "from keras import Sequential\n",
        "from keras.layers import Dense, Activation\n",
        "from keras.losses import MeanSquaredError\n",
        "from keras import optimizers\n",
        "\n",
        "import numpy as np\n",
        "\n",
        "\n",
        "############################ Model Training ############################\n",
        "#Importing the dataset\n",
        "dataset = pd.read_csv(\"IOT_Assignment_2_data_regression_sensor_range.csv\")\n",
        "X = dataset.iloc[:, [0,1]].values\n",
        "Y = dataset.iloc[:, 2].values\n",
        "\n",
        "# Splitting the dataset into the Training set and Test set\n",
        "X_train, X_test, Y_train, Y_test = train_test_split(X, Y, test_size = 0.3, random_state=0)\n",
        "\n",
        "#scaling data\n",
        "sc = StandardScaler()\n",
        "X_train = sc.fit_transform(X_train)\n",
        "X_test = sc.transform(X_test)\n",
        "\n",
        "\n",
        "#build sequential model\n",
        "model = Sequential()\n",
        "model.add(Dense(units= 256, activation= 'relu',input_dim = 2))\n",
        "model.add(Dense(units= 128, activation = 'relu'))\n",
        "model.add(Dense(units= 1, activation= 'relu'))\n",
        "\n",
        "\n",
        "#model compile and training\n",
        "model.compile(loss = 'MeanSquaredError',\n",
        "              optimizer=keras.optimizers.Adam(learning_rate=0.01),\n",
        "              metrics='mae'\n",
        ")\n",
        "\n",
        "model.fit(X_train,Y_train,epochs=600)\n",
        "\n",
        "#Prediction\n",
        "\n",
        "def prediction(Humidity, Temp):\n",
        "  test=np.array([Humidity,Temp])\n",
        "  test.shape=(1,2)\n",
        "  test = sc.transform(test)\n",
        "  return model.predict(test)"
      ]
    }
  ]
}